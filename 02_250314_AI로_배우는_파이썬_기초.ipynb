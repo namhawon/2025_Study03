{
  "nbformat": 4,
  "nbformat_minor": 0,
  "metadata": {
    "colab": {
      "provenance": [],
      "authorship_tag": "ABX9TyPBeO4n99sPx9A4Wo36CUjq",
      "include_colab_link": true
    },
    "kernelspec": {
      "name": "python3",
      "display_name": "Python 3"
    },
    "language_info": {
      "name": "python"
    }
  },
  "cells": [
    {
      "cell_type": "markdown",
      "metadata": {
        "id": "view-in-github",
        "colab_type": "text"
      },
      "source": [
        "<a href=\"https://colab.research.google.com/github/namhawon/2025_Study03/blob/main/02_250314_AI%EB%A1%9C_%EB%B0%B0%EC%9A%B0%EB%8A%94_%ED%8C%8C%EC%9D%B4%EC%8D%AC_%EA%B8%B0%EC%B4%88.ipynb\" target=\"_parent\"><img src=\"https://colab.research.google.com/assets/colab-badge.svg\" alt=\"Open In Colab\"/></a>"
      ]
    },
    {
      "cell_type": "markdown",
      "source": [
        "# 2주차 강의노트"
      ],
      "metadata": {
        "id": "-7z2ZXub_SIq"
      }
    },
    {
      "cell_type": "markdown",
      "source": [
        "**다양한 문자열 출력**"
      ],
      "metadata": {
        "id": "3iFWiMEYBu4L"
      }
    },
    {
      "cell_type": "code",
      "source": [
        "# 문자열 변수 사용\n",
        "message = \"Welcome to Python!\"\n",
        "print(message)"
      ],
      "metadata": {
        "colab": {
          "base_uri": "https://localhost:8080/"
        },
        "id": "Rg4UKOgT_X6f",
        "outputId": "635f8a43-30bc-41ab-e26f-ae1b706e9dd5"
      },
      "execution_count": 1,
      "outputs": [
        {
          "output_type": "stream",
          "name": "stdout",
          "text": [
            "Welcome to Python!\n"
          ]
        }
      ]
    },
    {
      "cell_type": "code",
      "source": [
        "# 여러 문자열 연결\n",
        "print(\"Hello,\" + \"Python!\") # +: 띄어쓰기 X"
      ],
      "metadata": {
        "colab": {
          "base_uri": "https://localhost:8080/"
        },
        "id": "LbwE4ca1_vVl",
        "outputId": "7234b37a-8b51-4e03-89c9-3912c8e094da"
      },
      "execution_count": 6,
      "outputs": [
        {
          "output_type": "stream",
          "name": "stdout",
          "text": [
            "Hello,Python!\n"
          ]
        }
      ]
    },
    {
      "cell_type": "code",
      "source": [
        "print(\"Hello,\",\"Python!\") # ,: 띄어쓰기 O"
      ],
      "metadata": {
        "colab": {
          "base_uri": "https://localhost:8080/"
        },
        "id": "0Pj2c9Qy_-rN",
        "outputId": "3dacd369-bb0a-4a81-d8a9-7d8bcc3a637d"
      },
      "execution_count": 7,
      "outputs": [
        {
          "output_type": "stream",
          "name": "stdout",
          "text": [
            "Hello, Python!\n"
          ]
        }
      ]
    },
    {
      "cell_type": "code",
      "source": [
        "# f-string 사용\n",
        "name = \"Alice\"\n",
        "age = 25\n",
        "print(f\"My name is {name} and I am {age} years old.\")"
      ],
      "metadata": {
        "colab": {
          "base_uri": "https://localhost:8080/"
        },
        "id": "_aCIGZf-AW70",
        "outputId": "d0a32603-e813-47dd-b475-bbb660171918"
      },
      "execution_count": 13,
      "outputs": [
        {
          "output_type": "stream",
          "name": "stdout",
          "text": [
            "My name is Alice and I am 25 years old.\n"
          ]
        }
      ]
    },
    {
      "cell_type": "code",
      "source": [
        "# 여러 값 출력\n",
        "print(\"My name is\", name, \"and I am learning Python!\")"
      ],
      "metadata": {
        "colab": {
          "base_uri": "https://localhost:8080/"
        },
        "id": "pheu8RlqAe1t",
        "outputId": "0c0d785b-ab00-44dd-9f42-5911949a0039"
      },
      "execution_count": 9,
      "outputs": [
        {
          "output_type": "stream",
          "name": "stdout",
          "text": [
            "My name is Alice and I am learning Python!\n"
          ]
        }
      ]
    },
    {
      "cell_type": "markdown",
      "source": [
        "**기본적인 연산**"
      ],
      "metadata": {
        "id": "1_ZtfXFgBy6o"
      }
    },
    {
      "cell_type": "code",
      "source": [
        "# 덧셈\n",
        "result = 10 + 5\n",
        "print(result)\n"
      ],
      "metadata": {
        "colab": {
          "base_uri": "https://localhost:8080/"
        },
        "id": "FsEHHkJTB1eI",
        "outputId": "d4e46ab9-0d26-436e-8888-d1a4f2843022"
      },
      "execution_count": 15,
      "outputs": [
        {
          "output_type": "stream",
          "name": "stdout",
          "text": [
            "15\n"
          ]
        }
      ]
    },
    {
      "cell_type": "code",
      "source": [
        "# 뺄셈\n",
        "result = 20 - 8\n",
        "print(result)"
      ],
      "metadata": {
        "colab": {
          "base_uri": "https://localhost:8080/"
        },
        "id": "ePs_3iPvCRlO",
        "outputId": "b288fac5-3a20-45a0-f8b9-95f86fe526d3"
      },
      "execution_count": 16,
      "outputs": [
        {
          "output_type": "stream",
          "name": "stdout",
          "text": [
            "12\n"
          ]
        }
      ]
    },
    {
      "cell_type": "code",
      "source": [
        "# 곱셈\n",
        "result = 5 * 3\n",
        "print(result)"
      ],
      "metadata": {
        "colab": {
          "base_uri": "https://localhost:8080/"
        },
        "id": "G7d8aQ4qB-IC",
        "outputId": "5bf9586c-25b1-45d5-b6ed-c3a9df4bbdea"
      },
      "execution_count": 17,
      "outputs": [
        {
          "output_type": "stream",
          "name": "stdout",
          "text": [
            "15\n"
          ]
        }
      ]
    },
    {
      "cell_type": "code",
      "source": [
        "# 나눗셈\n",
        "result = 15 / 3\n",
        "print(result)"
      ],
      "metadata": {
        "colab": {
          "base_uri": "https://localhost:8080/"
        },
        "id": "sZ_WI8DICOqi",
        "outputId": "3e4f4918-c395-4dd6-9214-f6c0e25642aa"
      },
      "execution_count": 21,
      "outputs": [
        {
          "output_type": "stream",
          "name": "stdout",
          "text": [
            "5.0\n"
          ]
        }
      ]
    },
    {
      "cell_type": "code",
      "source": [
        "# 나머지\n",
        "result = 10 % 3\n",
        "print(result)"
      ],
      "metadata": {
        "colab": {
          "base_uri": "https://localhost:8080/"
        },
        "id": "ui4fMxllCncP",
        "outputId": "e3de5270-ab58-454e-99a4-ac0acb482a39"
      },
      "execution_count": 22,
      "outputs": [
        {
          "output_type": "stream",
          "name": "stdout",
          "text": [
            "1\n"
          ]
        }
      ]
    },
    {
      "cell_type": "code",
      "source": [
        "# 거듭제곱\n",
        "result = 2 ** 3\n",
        "print(result)"
      ],
      "metadata": {
        "colab": {
          "base_uri": "https://localhost:8080/"
        },
        "id": "d0UEwqLwCxqG",
        "outputId": "fb45c3fe-afa6-43df-ca03-19a7764d4ecb"
      },
      "execution_count": 23,
      "outputs": [
        {
          "output_type": "stream",
          "name": "stdout",
          "text": [
            "8\n"
          ]
        }
      ]
    },
    {
      "cell_type": "markdown",
      "source": [
        "**응용 예제**"
      ],
      "metadata": {
        "id": "9IcNpxabDALo"
      }
    },
    {
      "cell_type": "code",
      "source": [
        "# 두 수의 합과 차를 출력하는 프로그램\n",
        "num1 = 25\n",
        "num2 = 10\n",
        "\n",
        "sum_result = num1 + num2\n",
        "diff_result = num1 - num2\n",
        "\n",
        "print(\"Sum:\", sum_result)\n",
        "print(\"Difference:\", diff_result)"
      ],
      "metadata": {
        "colab": {
          "base_uri": "https://localhost:8080/"
        },
        "id": "ok1-UnLjC9Hs",
        "outputId": "d7e5208b-61df-453d-b1d2-3b137532bc7d"
      },
      "execution_count": 27,
      "outputs": [
        {
          "output_type": "stream",
          "name": "stdout",
          "text": [
            "Sum: 35\n",
            "Difference: 15\n"
          ]
        }
      ]
    },
    {
      "cell_type": "markdown",
      "source": [
        "**input() 함수**"
      ],
      "metadata": {
        "id": "RzCLTXxyDr7S"
      }
    },
    {
      "cell_type": "code",
      "source": [
        "# 기본 사용법\n",
        "user_input = input()\n",
        "print(\"사용자가 입력한 값:\", user_input)"
      ],
      "metadata": {
        "colab": {
          "base_uri": "https://localhost:8080/"
        },
        "id": "DgUwVizCDytP",
        "outputId": "fa2b2649-728b-4344-a4f1-a1fe521dafdd"
      },
      "execution_count": 28,
      "outputs": [
        {
          "output_type": "stream",
          "name": "stdout",
          "text": [
            "5\n",
            "사용자가 입력한 값: 5\n"
          ]
        }
      ]
    },
    {
      "cell_type": "code",
      "source": [
        "# 프롬프트 문자열\n",
        "name = input(\"이름을 입력하세요: \")\n",
        "print(\"안녕하세요,\", name + \"님!\")"
      ],
      "metadata": {
        "colab": {
          "base_uri": "https://localhost:8080/"
        },
        "id": "QPWTKpvTEKLP",
        "outputId": "31996f3c-fb29-4226-ebcd-c7a43fc2b8c9"
      },
      "execution_count": 30,
      "outputs": [
        {
          "output_type": "stream",
          "name": "stdout",
          "text": [
            "이름을 입력하세요: 남하원\n",
            "안녕하세요, 남하원님!\n"
          ]
        }
      ]
    },
    {
      "cell_type": "markdown",
      "source": [
        "input() 함수는 항상 문자열(string) 형태로 값을 반환한다.\n",
        "\n",
        "**따라서 숫자, 연산 등 특정 자료형이 필요한 경우, 입력받은 문자열을 해당 자료형으로 반환해야 한다**\n",
        "\n",
        "\n",
        "*   int(): 문자열을 정수(integer)로 변환한다 = 소수점 없이 표현되는 숫자\n",
        "*   float(): 문자열을 실수(float)로 변환한다 = 소수점이 있는 숫자\n",
        "\n",
        "*   str(): 다른 자료형의 값을 문자열로 변환한다\n",
        "\n",
        "\n"
      ],
      "metadata": {
        "id": "fcf6FrpkFQOW"
      }
    },
    {
      "cell_type": "code",
      "source": [
        "age = input(\"나이를 입력하세요: \")\n",
        "age = int(age)"
      ],
      "metadata": {
        "colab": {
          "base_uri": "https://localhost:8080/"
        },
        "id": "0u_H35vRECUY",
        "outputId": "938f2a0d-57b9-4146-9357-574ce2bba20b"
      },
      "execution_count": 31,
      "outputs": [
        {
          "name": "stdout",
          "output_type": "stream",
          "text": [
            "나이를 입력하세요: 25\n"
          ]
        }
      ]
    },
    {
      "cell_type": "code",
      "source": [
        "print(\"10년 후 당신의 나이는\", age + 10, \"세입니다.\")"
      ],
      "metadata": {
        "colab": {
          "base_uri": "https://localhost:8080/"
        },
        "id": "-7zhDdIYHv_r",
        "outputId": "5cb8bf35-ffa2-4bfb-b1c0-db15a102be1f"
      },
      "execution_count": 32,
      "outputs": [
        {
          "output_type": "stream",
          "name": "stdout",
          "text": [
            "10년 후 당신의 나이는 35 세입니다.\n"
          ]
        }
      ]
    },
    {
      "cell_type": "markdown",
      "source": [
        "**여러 개의 입력값 처리**"
      ],
      "metadata": {
        "id": "BkG3_S4xH4rS"
      }
    },
    {
      "cell_type": "markdown",
      "source": [
        "1. split() 메서드는 문자열을 특정 구분자(기본값:공백)을 기준으로 나누어 리스트 형태로 반환한다"
      ],
      "metadata": {
        "id": "cK2OtPKtI0XW"
      }
    },
    {
      "cell_type": "code",
      "source": [
        "name, age = input(\"이름과 나이를 공백으로 구분하여 입력하세요: \").split()\n",
        "age = int(age)\n",
        "\n",
        "print(\"이름: \", name)\n",
        "print(\"나이: \", age)"
      ],
      "metadata": {
        "colab": {
          "base_uri": "https://localhost:8080/"
        },
        "id": "Ef2yNfgAI96n",
        "outputId": "3c739980-3612-4beb-c271-b8ebd1db3b62"
      },
      "execution_count": 36,
      "outputs": [
        {
          "output_type": "stream",
          "name": "stdout",
          "text": [
            "이름과 나이를 공백으로 구분하여 입력하세요: 남하원 25\n",
            "이름:  남하원\n",
            "나이:  25\n"
          ]
        }
      ]
    },
    {
      "cell_type": "markdown",
      "source": [
        "2. map() 함수는 여러 개의 값을 한 번에 특정 함수를 적용하여 변환할 때 유용하다"
      ],
      "metadata": {
        "id": "lUFgISSXI3eV"
      }
    },
    {
      "cell_type": "code",
      "source": [
        "num1, num2 = map(int, input(\" 두 개의 숫자를 공백으로 구분하여 입력하세요: \").split())\n",
        "print(\" 두 수의 합: \", num1 + num2)"
      ],
      "metadata": {
        "colab": {
          "base_uri": "https://localhost:8080/"
        },
        "id": "aByawRY8KE5k",
        "outputId": "66c859b9-104f-45a6-aea3-ac28057a4164"
      },
      "execution_count": 37,
      "outputs": [
        {
          "output_type": "stream",
          "name": "stdout",
          "text": [
            " 두 개의 숫자를 공백으로 구분하여 입력하세요: 10 20\n",
            " 두 수의 합:  30\n"
          ]
        }
      ]
    },
    {
      "cell_type": "markdown",
      "source": [
        "**주의사항 및 오류처리**"
      ],
      "metadata": {
        "id": "R4By4bKBK5Wg"
      }
    },
    {
      "cell_type": "code",
      "source": [
        "try:\n",
        "    age = int(input(\"나이를 입력하세요: \"))\n",
        "    print(\"입력하신 나이는\", age, \"세입니다.\")\n",
        "except ValueError:\n",
        "    print(\"잘못된 입력입니다. 숫자를 입력해주세요.\")"
      ],
      "metadata": {
        "colab": {
          "base_uri": "https://localhost:8080/"
        },
        "id": "wkhPrjveK8ms",
        "outputId": "0dac1ae5-4eba-4e56-f72f-b06d95d45842"
      },
      "execution_count": 38,
      "outputs": [
        {
          "output_type": "stream",
          "name": "stdout",
          "text": [
            "나이를 입력하세요: 스물다섯\n",
            "잘못된 입력입니다. 숫자를 입력해주세요.\n"
          ]
        }
      ]
    },
    {
      "cell_type": "code",
      "source": [
        "try:\n",
        "    age = int(input(\"나이를 입력하세요: \"))\n",
        "    print(\"입력하신 나이는\", age, \"세입니다.\")\n",
        "except ValueError:\n",
        "    print(\"잘못된 입력입니다. 숫자를 입력해주세요.\")"
      ],
      "metadata": {
        "colab": {
          "base_uri": "https://localhost:8080/"
        },
        "id": "G_4aKir4MJd5",
        "outputId": "f1a8c33a-0bb9-4d9f-fc7a-2de3d49c78de"
      },
      "execution_count": 39,
      "outputs": [
        {
          "output_type": "stream",
          "name": "stdout",
          "text": [
            "나이를 입력하세요: 25\n",
            "입력하신 나이는 25 세입니다.\n"
          ]
        }
      ]
    },
    {
      "cell_type": "markdown",
      "source": [
        "# 연습 문제"
      ],
      "metadata": {
        "id": "tFFmrzGAMR-A"
      }
    },
    {
      "cell_type": "markdown",
      "source": [
        "1. 사용자로부터 두 개의 숫자를 입력받아 더하기, 빼기, 곱하기, 나누기 연산을 수행하는 프로그램을 작성하세요(나눗셈 결과는 소수점까지 출력)"
      ],
      "metadata": {
        "id": "3KarbyB-MVhX"
      }
    },
    {
      "cell_type": "code",
      "source": [
        "try:\n",
        "    num1, num2 = map(int, input(\"두 개의 숫자를 공백으로 구분하여 입력하세요: \").split())\n",
        "\n",
        "    print(\"합:\", num1 + num2)\n",
        "    print(\"차:\", num1 - num2)\n",
        "    print(\"곱:\", num1 * num2)\n",
        "    print(\"나눗셈:\", num1 / num2)  # float 결과 출력\n",
        "except ValueError:\n",
        "    print(\"잘못된 입력입니다. 숫자를 입력해주세요.\")\n",
        "except ZeroDivisionError:\n",
        "    print(\"0으로 나눌 수 없습니다.\")"
      ],
      "metadata": {
        "colab": {
          "base_uri": "https://localhost:8080/"
        },
        "id": "QBUVxSGuNlrT",
        "outputId": "f45e506d-a053-4a0f-8217-e54f4ee3f1c6"
      },
      "execution_count": 44,
      "outputs": [
        {
          "output_type": "stream",
          "name": "stdout",
          "text": [
            "두 개의 숫자를 공백으로 구분하여 입력하세요: 20 5\n",
            "합: 25\n",
            "차: 15\n",
            "곱: 100\n",
            "나눗셈: 4.0\n"
          ]
        }
      ]
    },
    {
      "cell_type": "code",
      "source": [
        "try:\n",
        "    num1, num2 = map(int, input(\"두 개의 숫자를 공백으로 구분하여 입력하세요: \").split())\n",
        "\n",
        "    print(\"합:\", num1 + num2)\n",
        "    print(\"차:\", num1 - num2)\n",
        "    print(\"곱:\", num1 * num2)\n",
        "    print(\"나눗셈:\", num1 / num2)  # float 결과 출력\n",
        "except ValueError:\n",
        "    print(\"잘못된 입력입니다. 숫자를 입력해주세요.\")\n",
        "except ZeroDivisionError:\n",
        "    print(\"0으로 나눌 수 없습니다.\")"
      ],
      "metadata": {
        "colab": {
          "base_uri": "https://localhost:8080/"
        },
        "id": "t9GIORaeMUih",
        "outputId": "bce0da9c-c6ce-4d9d-ed76-d516b169c60e"
      },
      "execution_count": 43,
      "outputs": [
        {
          "output_type": "stream",
          "name": "stdout",
          "text": [
            "두 개의 숫자를 공백으로 구분하여 입력하세요: 5 0\n",
            "합: 5\n",
            "차: 5\n",
            "곱: 0\n",
            "0으로 나눌 수 없습니다.\n"
          ]
        }
      ]
    },
    {
      "cell_type": "markdown",
      "source": [
        "2. 사용자로부터 이름과 나이를 입력받아 \"안녕하세요, [이름]님! 당신의 나이는 [나이]세입니다.\" 형식으로 출력하는 프로그램을 작성하세요."
      ],
      "metadata": {
        "id": "roHcRNmgNqRr"
      }
    },
    {
      "cell_type": "code",
      "source": [
        "try:\n",
        "    name = input(\"이름을 입력하세요: \")\n",
        "    age = int(input(\"나이를 입력하세요: \"))\n",
        "\n",
        "    print(f\"안녕하세요, {name}님! 당신의 나이는 {age}세입니다.\")\n",
        "except ValueError:\n",
        "    print(\"나이는 숫자로 입력해주세요.\")"
      ],
      "metadata": {
        "colab": {
          "base_uri": "https://localhost:8080/"
        },
        "id": "b7fcn74NN14w",
        "outputId": "04e7764f-ac0d-4d41-ff7f-e53c8362c2c1"
      },
      "execution_count": 45,
      "outputs": [
        {
          "output_type": "stream",
          "name": "stdout",
          "text": [
            "이름을 입력하세요: 남하원\n",
            "나이를 입력하세요: 25\n",
            "안녕하세요, 남하원님! 당신의 나이는 25세입니다.\n"
          ]
        }
      ]
    },
    {
      "cell_type": "code",
      "source": [
        "try:\n",
        "    name = input(\"이름을 입력하세요: \")\n",
        "    age = int(input(\"나이를 입력하세요: \"))\n",
        "\n",
        "    print(f\"안녕하세요, {name}님! 당신의 나이는 {age}세입니다.\")\n",
        "except ValueError:\n",
        "    print(\"나이는 숫자로 입력해주세요.\")"
      ],
      "metadata": {
        "colab": {
          "base_uri": "https://localhost:8080/"
        },
        "id": "hveGXkKDN_Fa",
        "outputId": "2a9e7821-1ecd-460e-c398-311fb03e33fe"
      },
      "execution_count": 46,
      "outputs": [
        {
          "output_type": "stream",
          "name": "stdout",
          "text": [
            "이름을 입력하세요: 남하원\n",
            "나이를 입력하세요: 스물 다섯\n",
            "나이는 숫자로 입력해주세요.\n"
          ]
        }
      ]
    },
    {
      "cell_type": "markdown",
      "source": [
        "# 실전 문제"
      ],
      "metadata": {
        "id": "RxI-P599EJgz"
      }
    },
    {
      "cell_type": "markdown",
      "source": [
        "**문제 1**\n",
        "반지름이 5인 원의 면적을 구하시오.\n",
        "π 원주율 값은 3.141592로 계산합니다\n",
        "\n",
        "<출력 예시>\n",
        "반지름이 5인 원의 면적은 78.5398입니다"
      ],
      "metadata": {
        "id": "Bini_fwJdH_L"
      }
    },
    {
      "cell_type": "code",
      "execution_count": null,
      "metadata": {
        "colab": {
          "base_uri": "https://localhost:8080/"
        },
        "id": "A-Jy0dt-dD5Y",
        "outputId": "16197930-5965-4141-beb2-c728971cdd93"
      },
      "outputs": [
        {
          "output_type": "stream",
          "name": "stdout",
          "text": [
            "반지름이 5인 원의 면적은 78.5398입니다\n"
          ]
        }
      ],
      "source": [
        "# 반지름(r, radius) = 5\n",
        "r = 5\n",
        "\n",
        "# π 원주율 공식\n",
        "area = 3.141592 * r**2\n",
        "\n",
        "print(f\"반지름이 {r}인 원의 면적은 {area}입니다\")"
      ]
    },
    {
      "cell_type": "markdown",
      "source": [
        "**문제 2**\n",
        "분(정수)을 시간과 분으로 변환하여 출력하시오\n",
        "\n",
        "<출력 예시> 100분은 1시간 40분입니다."
      ],
      "metadata": {
        "id": "ni0TsVosdJz9"
      }
    },
    {
      "cell_type": "code",
      "source": [
        "t = 100 #시간은 100분\n",
        "hour = t//60\n",
        "minute = t% 60\n",
        "\n",
        "print(f\"{t}분은 {hour}시간 {minute}분입니다\")"
      ],
      "metadata": {
        "colab": {
          "base_uri": "https://localhost:8080/"
        },
        "id": "pI6Lh25yevYX",
        "outputId": "f1f5b7d5-7c99-4a72-d5d7-74a9a3aaee62"
      },
      "execution_count": null,
      "outputs": [
        {
          "output_type": "stream",
          "name": "stdout",
          "text": [
            "100분은 1시간 40분입니다\n"
          ]
        }
      ]
    }
  ]
}